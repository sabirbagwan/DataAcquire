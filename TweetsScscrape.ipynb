{
 "cells": [
  {
   "cell_type": "code",
   "execution_count": 1,
   "id": "10b2c960",
   "metadata": {},
   "outputs": [],
   "source": [
    "### Works for Python version 3.8 and above\n",
    "# !python --version"
   ]
  },
  {
   "cell_type": "code",
   "execution_count": 2,
   "id": "8b5ec038",
   "metadata": {},
   "outputs": [],
   "source": [
    "# !pip install snscrape"
   ]
  },
  {
   "cell_type": "code",
   "execution_count": 3,
   "id": "85c79189",
   "metadata": {},
   "outputs": [],
   "source": [
    "import numpy as np # linear algebra\n",
    "import pandas as pd # data processing, CSV file I/O (e.g. pd.read_csv)\n",
    "import snscrape.modules.twitter as sntwitter"
   ]
  },
  {
   "cell_type": "code",
   "execution_count": 4,
   "id": "e4a99256",
   "metadata": {},
   "outputs": [],
   "source": [
    "# query = \"(from:ShashiTharoor) until:2018-12-31 since:2018-01-01\"\n",
    "query = \"(from:elonmusk) until:2023-03-31 since:2023-01-01\""
   ]
  },
  {
   "cell_type": "code",
   "execution_count": 5,
   "id": "5a8aa3e2",
   "metadata": {},
   "outputs": [],
   "source": [
    "scraper =  sntwitter.TwitterSearchScraper(query)\n",
    "# scraper =  sntwitter.TwitterSearchScraper(\"#python\")"
   ]
  },
  {
   "cell_type": "code",
   "execution_count": 6,
   "id": "2e40b3d3",
   "metadata": {},
   "outputs": [],
   "source": [
    "# for tweet in scraper.get_items():\n",
    "#     tweet.location\n",
    "#     break"
   ]
  },
  {
   "cell_type": "code",
   "execution_count": 7,
   "id": "b138ba0a",
   "metadata": {},
   "outputs": [],
   "source": [
    "# tweet"
   ]
  },
  {
   "cell_type": "code",
   "execution_count": 8,
   "id": "3fb6d1cd",
   "metadata": {},
   "outputs": [],
   "source": [
    "# tweets = []\n",
    "# limits = 100\n",
    "\n",
    "# for tweet in scraper.get_items():\n",
    "#     if len(tweets) == limits:\n",
    "#         break\n",
    "#     else:\n",
    "#         data = [\n",
    "#             tweet.date,\n",
    "# #             tweet.id,\n",
    "#             tweet.rawContent,\n",
    "#             tweet.user.username,\n",
    "#             tweet.likeCount,\n",
    "#             tweet.retweetCount\n",
    "#         ]\n",
    "#         tweets.append(data)"
   ]
  },
  {
   "cell_type": "code",
   "execution_count": 9,
   "id": "1d98c107",
   "metadata": {},
   "outputs": [],
   "source": [
    "tweets = []\n",
    "# limits = 100\n",
    "\n",
    "for tweet in scraper.get_items():\n",
    "\n",
    "    data = [\n",
    "        tweet.date,\n",
    "#             tweet.id,\n",
    "        tweet.rawContent,\n",
    "#         tweet.user.username,\n",
    "        tweet.likeCount,\n",
    "        tweet.retweetCount\n",
    "    ]\n",
    "    tweets.append(data)"
   ]
  },
  {
   "cell_type": "code",
   "execution_count": 10,
   "id": "396476d2",
   "metadata": {},
   "outputs": [
    {
     "data": {
      "text/html": [
       "<div>\n",
       "<style scoped>\n",
       "    .dataframe tbody tr th:only-of-type {\n",
       "        vertical-align: middle;\n",
       "    }\n",
       "\n",
       "    .dataframe tbody tr th {\n",
       "        vertical-align: top;\n",
       "    }\n",
       "\n",
       "    .dataframe thead th {\n",
       "        text-align: right;\n",
       "    }\n",
       "</style>\n",
       "<table border=\"1\" class=\"dataframe\">\n",
       "  <thead>\n",
       "    <tr style=\"text-align: right;\">\n",
       "      <th></th>\n",
       "      <th>date</th>\n",
       "      <th>Content</th>\n",
       "      <th>Likes</th>\n",
       "      <th>Retweet</th>\n",
       "    </tr>\n",
       "  </thead>\n",
       "  <tbody>\n",
       "    <tr>\n",
       "      <th>0</th>\n",
       "      <td>2023-03-30 23:59:08+00:00</td>\n",
       "      <td>@mtaibbi 🤣</td>\n",
       "      <td>28301</td>\n",
       "      <td>1367</td>\n",
       "    </tr>\n",
       "    <tr>\n",
       "      <th>1</th>\n",
       "      <td>2023-03-30 22:02:28+00:00</td>\n",
       "      <td>@iamharaldur !</td>\n",
       "      <td>11984</td>\n",
       "      <td>547</td>\n",
       "    </tr>\n",
       "    <tr>\n",
       "      <th>2</th>\n",
       "      <td>2023-03-30 07:44:08+00:00</td>\n",
       "      <td>@Galaxygamerone Coming soon</td>\n",
       "      <td>2128</td>\n",
       "      <td>163</td>\n",
       "    </tr>\n",
       "    <tr>\n",
       "      <th>3</th>\n",
       "      <td>2023-03-30 07:15:48+00:00</td>\n",
       "      <td>@Tesmanian_com It will per vehicle</td>\n",
       "      <td>9754</td>\n",
       "      <td>540</td>\n",
       "    </tr>\n",
       "    <tr>\n",
       "      <th>4</th>\n",
       "      <td>2023-03-30 07:13:10+00:00</td>\n",
       "      <td>@TPostMillennial !!</td>\n",
       "      <td>24524</td>\n",
       "      <td>1929</td>\n",
       "    </tr>\n",
       "    <tr>\n",
       "      <th>...</th>\n",
       "      <td>...</td>\n",
       "      <td>...</td>\n",
       "      <td>...</td>\n",
       "      <td>...</td>\n",
       "    </tr>\n",
       "    <tr>\n",
       "      <th>2010</th>\n",
       "      <td>2023-01-01 19:34:42+00:00</td>\n",
       "      <td>@BriannaWu Thanks for paying me $8</td>\n",
       "      <td>104225</td>\n",
       "      <td>4557</td>\n",
       "    </tr>\n",
       "    <tr>\n",
       "      <th>2011</th>\n",
       "      <td>2023-01-01 19:33:38+00:00</td>\n",
       "      <td>@grizzzmint @TheRabbitHole84 Which is, ironica...</td>\n",
       "      <td>8400</td>\n",
       "      <td>539</td>\n",
       "    </tr>\n",
       "    <tr>\n",
       "      <th>2012</th>\n",
       "      <td>2023-01-01 19:29:30+00:00</td>\n",
       "      <td>@cb_doge @mayemusk 🤣</td>\n",
       "      <td>26868</td>\n",
       "      <td>623</td>\n",
       "    </tr>\n",
       "    <tr>\n",
       "      <th>2013</th>\n",
       "      <td>2023-01-01 19:26:19+00:00</td>\n",
       "      <td>@robinmonotti !!</td>\n",
       "      <td>35592</td>\n",
       "      <td>2594</td>\n",
       "    </tr>\n",
       "    <tr>\n",
       "      <th>2014</th>\n",
       "      <td>2023-01-01 19:25:38+00:00</td>\n",
       "      <td>Hope you’re having a great day 1 2023!\\n\\nOne ...</td>\n",
       "      <td>604985</td>\n",
       "      <td>44106</td>\n",
       "    </tr>\n",
       "  </tbody>\n",
       "</table>\n",
       "<p>2015 rows × 4 columns</p>\n",
       "</div>"
      ],
      "text/plain": [
       "                          date  \\\n",
       "0    2023-03-30 23:59:08+00:00   \n",
       "1    2023-03-30 22:02:28+00:00   \n",
       "2    2023-03-30 07:44:08+00:00   \n",
       "3    2023-03-30 07:15:48+00:00   \n",
       "4    2023-03-30 07:13:10+00:00   \n",
       "...                        ...   \n",
       "2010 2023-01-01 19:34:42+00:00   \n",
       "2011 2023-01-01 19:33:38+00:00   \n",
       "2012 2023-01-01 19:29:30+00:00   \n",
       "2013 2023-01-01 19:26:19+00:00   \n",
       "2014 2023-01-01 19:25:38+00:00   \n",
       "\n",
       "                                                Content   Likes  Retweet  \n",
       "0                                            @mtaibbi 🤣   28301     1367  \n",
       "1                                        @iamharaldur !   11984      547  \n",
       "2                           @Galaxygamerone Coming soon    2128      163  \n",
       "3                    @Tesmanian_com It will per vehicle    9754      540  \n",
       "4                                   @TPostMillennial !!   24524     1929  \n",
       "...                                                 ...     ...      ...  \n",
       "2010                 @BriannaWu Thanks for paying me $8  104225     4557  \n",
       "2011  @grizzzmint @TheRabbitHole84 Which is, ironica...    8400      539  \n",
       "2012                               @cb_doge @mayemusk 🤣   26868      623  \n",
       "2013                                   @robinmonotti !!   35592     2594  \n",
       "2014  Hope you’re having a great day 1 2023!\\n\\nOne ...  604985    44106  \n",
       "\n",
       "[2015 rows x 4 columns]"
      ]
     },
     "execution_count": 10,
     "metadata": {},
     "output_type": "execute_result"
    }
   ],
   "source": [
    "df = pd.DataFrame(tweets, columns = [\"date\", \"Content\", \"Likes\", \"Retweet\"])\n",
    "df"
   ]
  },
  {
   "cell_type": "code",
   "execution_count": 11,
   "id": "fe29417e",
   "metadata": {},
   "outputs": [
    {
     "data": {
      "text/plain": [
       "'@willdepue lol, but maybe'"
      ]
     },
     "execution_count": 11,
     "metadata": {},
     "output_type": "execute_result"
    }
   ],
   "source": [
    "df.Content[1998]"
   ]
  },
  {
   "cell_type": "code",
   "execution_count": 12,
   "id": "620b57ca",
   "metadata": {},
   "outputs": [],
   "source": [
    "df.to_csv('Tweets.csv', index = False)"
   ]
  },
  {
   "cell_type": "code",
   "execution_count": 13,
   "id": "1443c86b",
   "metadata": {},
   "outputs": [
    {
     "name": "stdout",
     "output_type": "stream",
     "text": [
      "<class 'pandas.core.frame.DataFrame'>\n",
      "RangeIndex: 2015 entries, 0 to 2014\n",
      "Data columns (total 4 columns):\n",
      " #   Column   Non-Null Count  Dtype              \n",
      "---  ------   --------------  -----              \n",
      " 0   date     2015 non-null   datetime64[ns, UTC]\n",
      " 1   Content  2015 non-null   object             \n",
      " 2   Likes    2015 non-null   int64              \n",
      " 3   Retweet  2015 non-null   int64              \n",
      "dtypes: datetime64[ns, UTC](1), int64(2), object(1)\n",
      "memory usage: 63.1+ KB\n"
     ]
    }
   ],
   "source": [
    "df.info()"
   ]
  },
  {
   "cell_type": "code",
   "execution_count": null,
   "id": "7313c364",
   "metadata": {},
   "outputs": [],
   "source": []
  }
 ],
 "metadata": {
  "kernelspec": {
   "display_name": "Python 3 (ipykernel)",
   "language": "python",
   "name": "python3"
  },
  "language_info": {
   "codemirror_mode": {
    "name": "ipython",
    "version": 3
   },
   "file_extension": ".py",
   "mimetype": "text/x-python",
   "name": "python",
   "nbconvert_exporter": "python",
   "pygments_lexer": "ipython3",
   "version": "3.9.13"
  }
 },
 "nbformat": 4,
 "nbformat_minor": 5
}
